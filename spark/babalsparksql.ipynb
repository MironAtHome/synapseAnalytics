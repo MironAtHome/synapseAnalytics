{
  "metadata": {
    "saveOutput": true,
    "language_info": {
      "name": "scala"
    }
  },
  "nbformat": 4,
  "nbformat_minor": 2,
  "cells": [
    {
      "cell_type": "code",
      "execution_count": 3,
      "outputs": [
        {
          "output_type": "execute_result",
          "execution_count": 3,
          "data": {
            "text/plain": "'2.4.4.2.6.99.201-SNAPSHOT'"
          },
          "metadata": {}
        }
      ],
      "metadata": {},
      "source": [
        "sc.version"
      ],
      "attachments": {}
    },
    {
      "cell_type": "code",
      "execution_count": 4,
      "outputs": [
        {
          "output_type": "execute_result",
          "execution_count": 4,
          "data": {
            "text/plain": "import org.apache.spark.sql._\nimport org.apache.spark.sql.functions._"
          },
          "metadata": {}
        }
      ],
      "metadata": {},
      "source": [
        "import org.apache.spark.sql._\n",
        "import org.apache.spark.sql.functions._"
      ],
      "attachments": {}
    },
    {
      "cell_type": "code",
      "execution_count": 5,
      "outputs": [
        {
          "output_type": "execute_result",
          "execution_count": 5,
          "data": {
            "text/plain": "yellowdf: org.apache.spark.sql.DataFrame = [vendorID: string, tpepPickupDateTime: timestamp ... 21 more fields]"
          },
          "metadata": {}
        }
      ],
      "metadata": {},
      "source": [
        "val yellowdf = spark.read.option(\"header\",\"true\").option(\"inferSchema\",\"true\").parquet(\"abfss://opendataset@internalsandboxwe.dfs.core.windows.net/nyctlc/yellow/\")"
      ],
      "attachments": {}
    },
    {
      "cell_type": "code",
      "execution_count": null,
      "outputs": [],
      "metadata": {},
      "source": [
        "val df1 = yellowdf.withColumn(\"Date\", (col(\"tpepPickupDateTime\").cast(\"date\")))\n",
        "display(df1)"
      ],
      "attachments": {}
    },
    {
      "cell_type": "code",
      "execution_count": null,
      "outputs": [],
      "metadata": {},
      "source": [
        "df1.createOrReplaceTempView(\"taxidata\")"
      ],
      "attachments": {}
    },
    {
      "cell_type": "code",
      "execution_count": null,
      "outputs": [],
      "metadata": {},
      "source": [
        "%%sql\n",
        "select * from taxidata limit 10"
      ],
      "attachments": {}
    },
    {
      "cell_type": "code",
      "execution_count": null,
      "outputs": [],
      "metadata": {},
      "source": [
        "%%sql\n",
        "\n",
        "select vendorID, count(*) as reccount, sum(totalAmount) as Total, avg(totalAmount) as Avg from taxidata group by vendorID"
      ],
      "attachments": {}
    }
  ]
}