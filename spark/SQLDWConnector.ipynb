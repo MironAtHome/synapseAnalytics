{
  "metadata": {
    "language_info": {
      "name": "scala"
    },
    "sessionKeepAliveTimeout": 30
  },
  "nbformat": 4,
  "nbformat_minor": 2,
  "cells": [
    {
      "cell_type": "code",
      "execution_count": 4,
      "outputs": [
        {
          "output_type": "error",
          "ename": "Error",
          "evalue": "<console>:27: error: object azuredw is not a member of package com.microsoft.spark",
          "traceback": [
            "Error : <console>:27: error: object azuredw is not a member of package com.microsoft.spark",
            "       import com.microsoft.spark.azuredw.{Constants}\n",
            "                                  ^\n"
          ]
        }
      ],
      "metadata": {},
      "source": [
        "import com.microsoft.spark.azuredw.{Constants}\n",
        "import org.apache.spark.sql.AzureDWDataFrameReader._\n",
        ""
      ],
      "attachments": {}
    },
    {
      "cell_type": "code",
      "execution_count": null,
      "outputs": [],
      "metadata": {},
      "source": [
        "var df = spark.read.option(Constants.SERVER, \"synapadls.database.windows.net\").\n",
        "   option(Constants.DATA_SOURCE, \"MyDataSource\").\n",
        "   option(Constants.FILE_FORMAT,\"textdelimited1\").\n",
        "   azuredw(\"dwpool.dbo.taxidata\")"
      ],
      "attachments": {}
    }
  ]
}