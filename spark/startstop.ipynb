{
  "metadata": {
    "saveOutput": true,
    "language_info": {
      "name": "scala"
    }
  },
  "nbformat": 4,
  "nbformat_minor": 2,
  "cells": [
    {
      "cell_type": "code",
      "execution_count": 4,
      "outputs": [
        {
          "output_type": "execute_result",
          "execution_count": 4,
          "data": {
            "text/plain": "res2: String = 2.4.4.2.6.99.201-SNAPSHOT"
          },
          "metadata": {}
        }
      ],
      "metadata": {},
      "source": [
        "sc.version"
      ],
      "attachments": {}
    }
  ]
}