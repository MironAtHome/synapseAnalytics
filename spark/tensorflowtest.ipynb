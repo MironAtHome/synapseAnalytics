{
  "metadata": {
    "language_info": {
      "name": "python"
    }
  },
  "nbformat": 4,
  "nbformat_minor": 2,
  "cells": [
    {
      "cell_type": "code",
      "execution_count": 3,
      "outputs": [
        {
          "execution_count": 3,
          "output_type": "execute_result",
          "data": {
            "text/plain": "2.4.4.dev0\nNone"
          },
          "metadata": {}
        }
      ],
      "metadata": {},
      "source": [
        "%%pyspark\n",
        "import pyspark \n",
        "print(print(pyspark.__version__)) "
      ],
      "attachments": {}
    },
    {
      "cell_type": "code",
      "execution_count": 4,
      "outputs": [
        {
          "execution_count": 4,
          "output_type": "execute_result",
          "data": {
            "text/plain": "1.14.0"
          },
          "metadata": {}
        }
      ],
      "metadata": {},
      "source": [
        "import tensorflow as tf; \n",
        "print(tf.__version__)"
      ],
      "attachments": {}
    },
    {
      "cell_type": "code",
      "execution_count": 8,
      "outputs": [],
      "metadata": {},
      "source": [
        "from __future__ import absolute_import\n",
        "from __future__ import division\n",
        "from __future__ import print_function\n",
        "\n",
        "import argparse\n",
        "\n",
        "# Import data\n",
        "from tensorflow.examples.tutorials.mnist import input_data\n",
        "\n",
        "import tensorflow as tf"
      ],
      "attachments": {}
    },
    {
      "cell_type": "code",
      "execution_count": 9,
      "outputs": [
        {
          "execution_count": 9,
          "output_type": "execute_result",
          "data": {
            "text/plain": "Successfully downloaded train-images-idx3-ubyte.gz 9912422 bytes.\nExtracting /tmp/data/train-images-idx3-ubyte.gz\nSuccessfully downloaded train-labels-idx1-ubyte.gz 28881 bytes.\nExtracting /tmp/data/train-labels-idx1-ubyte.gz\nSuccessfully downloaded t10k-images-idx3-ubyte.gz 1648877 bytes.\nExtracting /tmp/data/t10k-images-idx3-ubyte.gz\nSuccessfully downloaded t10k-labels-idx1-ubyte.gz 4542 bytes.\nExtracting /tmp/data/t10k-labels-idx1-ubyte.gz"
          },
          "metadata": {}
        }
      ],
      "metadata": {},
      "source": [
        "mnist = input_data.read_data_sets('/tmp/data', one_hot=True)"
      ],
      "attachments": {}
    },
    {
      "cell_type": "code",
      "execution_count": 10,
      "outputs": [],
      "metadata": {},
      "source": [
        "x = tf.placeholder(tf.float32, [None, 784])\n",
        "W = tf.Variable(tf.zeros([784, 10]))\n",
        "b = tf.Variable(tf.zeros([10]))\n",
        "y = tf.matmul(x, W) + b "
      ],
      "attachments": {}
    },
    {
      "cell_type": "code",
      "execution_count": 11,
      "outputs": [],
      "metadata": {},
      "source": [
        "y_ = tf.placeholder(tf.float32, [None, 10])"
      ],
      "attachments": {}
    },
    {
      "cell_type": "code",
      "execution_count": 14,
      "outputs": [
        {
          "execution_count": 14,
          "output_type": "execute_result",
          "data": {
            "text/plain": "<tf.Tensor 'Mean_1:0' shape=() dtype=float32>"
          },
          "metadata": {}
        }
      ],
      "metadata": {},
      "source": [
        "tf.reduce_mean(-tf.reduce_sum(y_ * tf.log(tf.nn.softmax(y)), reduction_indices=[1]))"
      ],
      "attachments": {}
    },
    {
      "cell_type": "code",
      "execution_count": 15,
      "outputs": [],
      "metadata": {},
      "source": [
        "cross_entropy = tf.reduce_mean(tf.nn.softmax_cross_entropy_with_logits(logits=y, labels=y_))\n",
        "train_step = tf.train.GradientDescentOptimizer(0.5).minimize(cross_entropy)"
      ],
      "attachments": {}
    },
    {
      "cell_type": "code",
      "execution_count": 16,
      "outputs": [],
      "metadata": {},
      "source": [
        "correct_prediction = tf.equal(tf.argmax(y, 1), tf.argmax(y_, 1))\n",
        "accuracy = tf.reduce_mean(tf.cast(correct_prediction, tf.float32))\n",
        "summary = tf.summary.scalar(\"accuracy\", accuracy)"
      ],
      "attachments": {}
    },
    {
      "cell_type": "code",
      "execution_count": 17,
      "outputs": [
        {
          "output_type": "error",
          "ename": "NameError",
          "evalue": "name 'dbutils' is not defined",
          "traceback": [
            "NameError : name 'dbutils' is not defined",
            "Traceback (most recent call last):\n",
            "NameError: name 'dbutils' is not defined\n"
          ]
        }
      ],
      "metadata": {},
      "source": [
        "log_dir = \"/tmp/tensorflow_log_dir\"\n",
        "dbutils.tensorboard.start(log_dir)"
      ],
      "attachments": {}
    },
    {
      "cell_type": "code",
      "execution_count": 18,
      "outputs": [],
      "metadata": {},
      "source": [
        "\n",
        "sess = tf.InteractiveSession()\n",
        "\n",
        "# Make sure to use the same log directory for both start TensorBoard in your training.\n",
        "summary_writer = tf.summary.FileWriter(log_dir, graph=sess.graph)\n",
        "\n",
        "tf.global_variables_initializer().run()\n",
        "for batch in range(1000):\n",
        "  batch_xs, batch_ys = mnist.train.next_batch(100)\n",
        "  _, batch_summary = sess.run([train_step, summary], feed_dict={x: batch_xs, y_: batch_ys})\n",
        "  summary_writer.add_summary(batch_summary, batch)"
      ],
      "attachments": {}
    },
    {
      "cell_type": "code",
      "execution_count": 19,
      "outputs": [
        {
          "execution_count": 19,
          "output_type": "execute_result",
          "data": {
            "text/plain": "0.918"
          },
          "metadata": {}
        }
      ],
      "metadata": {},
      "source": [
        "print(sess.run(accuracy, feed_dict={x: mnist.test.images,\n",
        "                                    y_: mnist.test.labels}))"
      ],
      "attachments": {}
    },
    {
      "cell_type": "code",
      "execution_count": 20,
      "outputs": [
        {
          "output_type": "error",
          "ename": "NameError",
          "evalue": "name 'dbutils' is not defined",
          "traceback": [
            "NameError : name 'dbutils' is not defined",
            "Traceback (most recent call last):\n",
            "NameError: name 'dbutils' is not defined\n"
          ]
        }
      ],
      "metadata": {},
      "source": [
        "dbutils.tensorboard.stop()"
      ],
      "attachments": {}
    },
    {
      "cell_type": "code",
      "execution_count": 21,
      "outputs": [
        {
          "output_type": "error",
          "ename": "PermissionError",
          "evalue": "[Errno 13] Permission denied: '/dbfs'",
          "traceback": [
            "PermissionError : [Errno 13] Permission denied: '/dbfs'",
            "Traceback (most recent call last):\n",
            "  File \"/home/trusted-service-user/cluster-env/env/lib/python3.6/shutil.py\", line 555, in move\n    symlinks=True)\n",
            "  File \"/home/trusted-service-user/cluster-env/env/lib/python3.6/shutil.py\", line 315, in copytree\n    os.makedirs(dst)\n",
            "  File \"/home/trusted-service-user/cluster-env/env/lib/python3.6/os.py\", line 210, in makedirs\n    makedirs(head, mode, exist_ok)\n",
            "  File \"/home/trusted-service-user/cluster-env/env/lib/python3.6/os.py\", line 210, in makedirs\n    makedirs(head, mode, exist_ok)\n",
            "  File \"/home/trusted-service-user/cluster-env/env/lib/python3.6/os.py\", line 220, in makedirs\n    mkdir(name, mode)\n",
            "PermissionError: [Errno 13] Permission denied: '/dbfs'\n"
          ]
        }
      ],
      "metadata": {},
      "source": [
        "import shutil\n",
        "shutil.move(log_dir, \"/dbfs/tensorflow/logs\")"
      ],
      "attachments": {}
    }
  ]
}